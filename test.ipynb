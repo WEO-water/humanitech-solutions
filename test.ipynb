{
 "cells": [
  {
   "cell_type": "code",
   "execution_count": 1,
   "id": "fa6cc9b3",
   "metadata": {},
   "outputs": [],
   "source": [
    "from IPython.display import HTML, Markdown, display\n",
    "from google import genai\n",
    "from google.genai.types import (        \n",
    "    HttpOptions,\n",
    "    FunctionDeclaration,\n",
    "    GenerateContentConfig,\n",
    "    GoogleSearch,\n",
    "    HarmBlockThreshold,\n",
    "    HarmCategory,\n",
    "    MediaResolution,\n",
    "    Part,\n",
    "    Retrieval,\n",
    "    SafetySetting,\n",
    "    Tool,\n",
    "    ToolCodeExecution,\n",
    "    VertexAISearch,\n",
    ")\n",
    "import os\n",
    "import pandas as pd\n",
    "import geopandas as gpd\n",
    "import sys\n",
    "from pydantic import BaseModel\n",
    "from typing import List\n",
    "\n",
    "# if \"google.colab\" in sys.modules:\n",
    "#     from google.colab import auth\n",
    "\n",
    "#     auth.authenticate_user()\n",
    "\n"
   ]
  },
  {
   "cell_type": "code",
   "execution_count": 2,
   "id": "ad05b0d3",
   "metadata": {},
   "outputs": [],
   "source": [
    "\n",
    "PROJECT_ID = \"dl-test-439308\"  # \n",
    "# if not PROJECT_ID or PROJECT_ID == \"[your-project-id]\":\n",
    "#     PROJECT_ID = str(os.environ.get(\"GOOGLE_CLOUD_PROJECT\"))\n",
    "MODEL_ID = \"gemini-2.5-flash-preview-05-20\" #\"gemini-2.0-flash\"  # @param {type: \"string\"}\n",
    "LOCATION = os.environ.get(\"GOOGLE_CLOUD_REGION\", \"global\")\n",
    "client = genai.Client(vertexai=True, project=PROJECT_ID, location=LOCATION, http_options=HttpOptions(api_version=\"v1\"))\n",
    "\n",
    "# if not client.vertexai:\n",
    "#     print(\"Using Gemini Developer API.\")\n",
    "# elif client._api_client.project:\n",
    "#     print(\n",
    "#         f\"Using Vertex AI with project: {client._api_client.project} in location: {client._api_client.location}\"\n",
    "#     )\n",
    "# elif client._api_client.api_key:\n",
    "#     print(\n",
    "#         f\"Using Vertex AI in express mode with API key: {client._api_client.api_key[:5]}...{client._api_client.api_key[-5:]}\"\n",
    "#     )\n",
    "\n",
    "\n"
   ]
  },
  {
   "cell_type": "code",
   "execution_count": 5,
   "id": "8e0c8aca",
   "metadata": {},
   "outputs": [],
   "source": [
    "\n",
    "\n",
    "SYSTEM_INSTRUCTION = \"\"\"\n",
    "reply the best you can safter readinf the attached pdf files\n",
    "\"\"\"\n",
    "\n",
    "PROMPT_TEMPLATE = \"Can you explain in three sentence where the attached documents are about? \"\n",
    "# f\"\"\"\n",
    "\n",
    "\n"
   ]
  },
  {
   "cell_type": "code",
   "execution_count": 3,
   "id": "a98ba94e",
   "metadata": {},
   "outputs": [],
   "source": [
    "\n",
    "pdf_uri = ['gs://dl-test-439308-bucket/weo-data/climate-ready-communities-a-guide-to-getting-started.pdf', 'gs://dl-test-439308-bucket/weo-data/Dargo Rear v8 - final.pdf']\n",
    "if pdf_uri:\n",
    "    PDF_FILES = []\n",
    "\n",
    "    if isinstance(pdf_uri, list):\n",
    "        PDF_FILES = [\n",
    "            Part.from_uri(file_uri=uri, mime_type=\"application/pdf\")\n",
    "            for uri in pdf_uri\n",
    "        ]\n",
    "    else:\n",
    "        PDF_FILES = [Part.from_uri(file_uri=pdf_uri, mime_type=\"application/pdf\")]\n"
   ]
  },
  {
   "cell_type": "code",
   "execution_count": 6,
   "id": "36690cad",
   "metadata": {},
   "outputs": [
    {
     "name": "stdout",
     "output_type": "stream",
     "text": [
      "Generated Actions:\n",
      "[\n",
      "  {\n",
      "    \"summary\": \"The first document, \\\"Climate-Ready Communities,\\\" is a guide from the Australian Red Cross that outlines a four-stage process to help communities prepare for and adapt to the impacts of climate change. The second document, \\\"DARGO & DISTRICT EMERGENCY REFERENCE SHEET,\\\" is a region-specific guide providing critical information for residents of Dargo, Victoria, on how to prepare for and respond to local emergencies like fires and floods. Together, these documents emphasize community resilience by offering frameworks for understanding risks, engaging residents, and identifying practical steps for preparedness and adaptation.\"\n",
      "  }\n",
      "]\n"
     ]
    }
   ],
   "source": [
    "\n",
    "# Step 4: Generate the structured response\n",
    "response = client.models.generate_content(\n",
    "    model=MODEL_ID,\n",
    "    contents=[PDF_FILES, PROMPT_TEMPLATE] if PDF_FILES else [PROMPT_TEMPLATE],\n",
    "    config=GenerateContentConfig(\n",
    "        response_mime_type=\"application/json\",\n",
    "        # response_schema=RiskActions,\n",
    "        system_instruction=SYSTEM_INSTRUCTION,\n",
    "        temperature=0.4,\n",
    "        top_p=0.95,\n",
    "        top_k=20,\n",
    "        candidate_count=1,\n",
    "        seed=5, #ALWAYS SAME ANSWERS!\n",
    "        # max_output_tokens=100,\n",
    "        presence_penalty=0.0,\n",
    "        frequency_penalty=0.0,\n",
    "    ),\n",
    ")\n",
    "\n",
    "# Step 5: Output\n",
    "print(\"Generated Actions:\")\n",
    "print(response.text)\n",
    "\n",
    "\n",
    "\n",
    "\n",
    "\n",
    " "
   ]
  }
 ],
 "metadata": {
  "kernelspec": {
   "display_name": "dev",
   "language": "python",
   "name": "python3"
  },
  "language_info": {
   "codemirror_mode": {
    "name": "ipython",
    "version": 3
   },
   "file_extension": ".py",
   "mimetype": "text/x-python",
   "name": "python",
   "nbconvert_exporter": "python",
   "pygments_lexer": "ipython3",
   "version": "3.13.3"
  }
 },
 "nbformat": 4,
 "nbformat_minor": 5
}
